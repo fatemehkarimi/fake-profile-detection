{
 "cells": [
  {
   "cell_type": "code",
   "execution_count": 1,
   "id": "3b17c364",
   "metadata": {},
   "outputs": [
    {
     "name": "stderr",
     "output_type": "stream",
     "text": [
      "2022-05-26 23:23:20.562536: W tensorflow/stream_executor/platform/default/dso_loader.cc:64] Could not load dynamic library 'libcudart.so.11.0'; dlerror: libcudart.so.11.0: cannot open shared object file: No such file or directory\n",
      "2022-05-26 23:23:20.562571: I tensorflow/stream_executor/cuda/cudart_stub.cc:29] Ignore above cudart dlerror if you do not have a GPU set up on your machine.\n"
     ]
    }
   ],
   "source": [
    "import pandas as pd\n",
    "import numpy as np\n",
    "import matplotlib.pyplot as plt\n",
    "import keras\n",
    "from keras.models import Sequential\n",
    "from keras.layers import Dense, Dropout\n",
    "from sklearn.utils import shuffle\n",
    "from sklearn.model_selection import train_test_split\n",
    "from sklearn.preprocessing import StandardScaler, MinMaxScaler\n",
    "from sklearn.preprocessing import OneHotEncoder\n",
    "from sklearn.metrics import confusion_matrix, ConfusionMatrixDisplay\n",
    "from sklearn.metrics import accuracy_score, precision_recall_fscore_support\n",
    "from sklearn.metrics import classification_report"
   ]
  },
  {
   "cell_type": "code",
   "execution_count": 2,
   "id": "606f96d8",
   "metadata": {},
   "outputs": [
    {
     "data": {
      "text/html": [
       "<div>\n",
       "<style scoped>\n",
       "    .dataframe tbody tr th:only-of-type {\n",
       "        vertical-align: middle;\n",
       "    }\n",
       "\n",
       "    .dataframe tbody tr th {\n",
       "        vertical-align: top;\n",
       "    }\n",
       "\n",
       "    .dataframe thead th {\n",
       "        text-align: right;\n",
       "    }\n",
       "</style>\n",
       "<table border=\"1\" class=\"dataframe\">\n",
       "  <thead>\n",
       "    <tr style=\"text-align: right;\">\n",
       "      <th></th>\n",
       "      <th>userMediaCount</th>\n",
       "      <th>medLikeNumbers</th>\n",
       "      <th>medCommentNumbers</th>\n",
       "      <th>medHashtagNumbers</th>\n",
       "      <th>medUploadIntervals</th>\n",
       "      <th>medUploadHours</th>\n",
       "      <th>countHasLocationInfo</th>\n",
       "      <th>followerCount</th>\n",
       "      <th>followingCount</th>\n",
       "      <th>hasExternalUrl</th>\n",
       "      <th>tagCounts</th>\n",
       "      <th>biographyLength</th>\n",
       "      <th>usernameLength</th>\n",
       "      <th>isFake</th>\n",
       "    </tr>\n",
       "  </thead>\n",
       "  <tbody>\n",
       "    <tr>\n",
       "      <th>23</th>\n",
       "      <td>55</td>\n",
       "      <td>218.0</td>\n",
       "      <td>4.0</td>\n",
       "      <td>30.0</td>\n",
       "      <td>0.0</td>\n",
       "      <td>12.0</td>\n",
       "      <td>0</td>\n",
       "      <td>3278</td>\n",
       "      <td>2714</td>\n",
       "      <td>0</td>\n",
       "      <td>99</td>\n",
       "      <td>0</td>\n",
       "      <td>9</td>\n",
       "      <td>1</td>\n",
       "    </tr>\n",
       "    <tr>\n",
       "      <th>43</th>\n",
       "      <td>0</td>\n",
       "      <td>0.0</td>\n",
       "      <td>0.0</td>\n",
       "      <td>0.0</td>\n",
       "      <td>3.5</td>\n",
       "      <td>16.0</td>\n",
       "      <td>0</td>\n",
       "      <td>107</td>\n",
       "      <td>150</td>\n",
       "      <td>0</td>\n",
       "      <td>0</td>\n",
       "      <td>0</td>\n",
       "      <td>14</td>\n",
       "      <td>0</td>\n",
       "    </tr>\n",
       "    <tr>\n",
       "      <th>61</th>\n",
       "      <td>1000</td>\n",
       "      <td>11.0</td>\n",
       "      <td>0.0</td>\n",
       "      <td>2.0</td>\n",
       "      <td>1.0</td>\n",
       "      <td>8.0</td>\n",
       "      <td>679</td>\n",
       "      <td>5757</td>\n",
       "      <td>653</td>\n",
       "      <td>0</td>\n",
       "      <td>153</td>\n",
       "      <td>100</td>\n",
       "      <td>9</td>\n",
       "      <td>1</td>\n",
       "    </tr>\n",
       "    <tr>\n",
       "      <th>1384</th>\n",
       "      <td>99</td>\n",
       "      <td>33.0</td>\n",
       "      <td>0.0</td>\n",
       "      <td>2.0</td>\n",
       "      <td>9.0</td>\n",
       "      <td>7.0</td>\n",
       "      <td>34</td>\n",
       "      <td>414</td>\n",
       "      <td>434</td>\n",
       "      <td>0</td>\n",
       "      <td>12</td>\n",
       "      <td>0</td>\n",
       "      <td>10</td>\n",
       "      <td>0</td>\n",
       "    </tr>\n",
       "    <tr>\n",
       "      <th>85</th>\n",
       "      <td>77</td>\n",
       "      <td>58.0</td>\n",
       "      <td>2.0</td>\n",
       "      <td>0.0</td>\n",
       "      <td>10.5</td>\n",
       "      <td>17.0</td>\n",
       "      <td>13</td>\n",
       "      <td>366</td>\n",
       "      <td>555</td>\n",
       "      <td>0</td>\n",
       "      <td>18</td>\n",
       "      <td>30</td>\n",
       "      <td>10</td>\n",
       "      <td>0</td>\n",
       "    </tr>\n",
       "  </tbody>\n",
       "</table>\n",
       "</div>"
      ],
      "text/plain": [
       "      userMediaCount  medLikeNumbers  medCommentNumbers  medHashtagNumbers  \\\n",
       "23                55           218.0                4.0               30.0   \n",
       "43                 0             0.0                0.0                0.0   \n",
       "61              1000            11.0                0.0                2.0   \n",
       "1384              99            33.0                0.0                2.0   \n",
       "85                77            58.0                2.0                0.0   \n",
       "\n",
       "      medUploadIntervals  medUploadHours  countHasLocationInfo  followerCount  \\\n",
       "23                   0.0            12.0                     0           3278   \n",
       "43                   3.5            16.0                     0            107   \n",
       "61                   1.0             8.0                   679           5757   \n",
       "1384                 9.0             7.0                    34            414   \n",
       "85                  10.5            17.0                    13            366   \n",
       "\n",
       "      followingCount  hasExternalUrl  tagCounts  biographyLength  \\\n",
       "23              2714               0         99                0   \n",
       "43               150               0          0                0   \n",
       "61               653               0        153              100   \n",
       "1384             434               0         12                0   \n",
       "85               555               0         18               30   \n",
       "\n",
       "      usernameLength  isFake  \n",
       "23                 9       1  \n",
       "43                14       0  \n",
       "61                 9       1  \n",
       "1384              10       0  \n",
       "85                10       0  "
      ]
     },
     "execution_count": 2,
     "metadata": {},
     "output_type": "execute_result"
    }
   ],
   "source": [
    "df = pd.read_csv('data/thresh01.csv')\n",
    "df = shuffle(df)\n",
    "df.head()"
   ]
  },
  {
   "cell_type": "code",
   "execution_count": 3,
   "id": "5f640f42",
   "metadata": {},
   "outputs": [],
   "source": [
    "X = df.drop('isFake', axis=1)\n",
    "y = df['isFake'].values"
   ]
  },
  {
   "cell_type": "code",
   "execution_count": 4,
   "id": "3051c18e",
   "metadata": {},
   "outputs": [],
   "source": [
    "scaler = MinMaxScaler()\n",
    "X_numeric = X.drop(['hasExternalUrl'], axis=1)\n",
    "X_numeric = scaler.fit_transform(X_numeric)\n",
    "X = np.concatenate([X_numeric, X[['hasExternalUrl']]], axis=1)"
   ]
  },
  {
   "cell_type": "code",
   "execution_count": 5,
   "id": "9ab80332",
   "metadata": {},
   "outputs": [],
   "source": [
    "one_hot_encoder = OneHotEncoder()\n",
    "y = one_hot_encoder.fit_transform(y.reshape(-1, 1)).toarray()"
   ]
  },
  {
   "cell_type": "code",
   "execution_count": 6,
   "id": "f3fd389f",
   "metadata": {},
   "outputs": [],
   "source": [
    "X_train, X_test, y_train, y_test = train_test_split(X, y, test_size=0.3)"
   ]
  },
  {
   "cell_type": "code",
   "execution_count": 7,
   "id": "9b621ca0",
   "metadata": {},
   "outputs": [
    {
     "name": "stderr",
     "output_type": "stream",
     "text": [
      "2022-05-26 23:23:44.643600: W tensorflow/stream_executor/platform/default/dso_loader.cc:64] Could not load dynamic library 'libcuda.so.1'; dlerror: libcuda.so.1: cannot open shared object file: No such file or directory\n",
      "2022-05-26 23:23:44.643621: W tensorflow/stream_executor/cuda/cuda_driver.cc:269] failed call to cuInit: UNKNOWN ERROR (303)\n",
      "2022-05-26 23:23:44.643634: I tensorflow/stream_executor/cuda/cuda_diagnostics.cc:156] kernel driver does not appear to be running on this host (fatemeh): /proc/driver/nvidia/version does not exist\n",
      "2022-05-26 23:23:44.654873: I tensorflow/core/platform/cpu_feature_guard.cc:193] This TensorFlow binary is optimized with oneAPI Deep Neural Network Library (oneDNN) to use the following CPU instructions in performance-critical operations:  AVX2 FMA\n",
      "To enable them in other operations, rebuild TensorFlow with the appropriate compiler flags.\n"
     ]
    }
   ],
   "source": [
    "model = Sequential()\n",
    "model.add(Dense(32, input_dim=len(df.columns) - 1, activation='relu'))\n",
    "model.add(Dropout(0.2))\n",
    "model.add(Dense(32, activation='relu'))\n",
    "model.add(Dropout(0.2))\n",
    "model.add(Dense(2, activation='softmax'))"
   ]
  },
  {
   "cell_type": "code",
   "execution_count": 8,
   "id": "cb964593",
   "metadata": {},
   "outputs": [],
   "source": [
    "opt = keras.optimizers.Adam(learning_rate=0.001)\n",
    "model.compile(loss='categorical_crossentropy', optimizer=opt, metrics=['accuracy'])"
   ]
  },
  {
   "cell_type": "code",
   "execution_count": 9,
   "id": "86d5b58d",
   "metadata": {},
   "outputs": [
    {
     "name": "stdout",
     "output_type": "stream",
     "text": [
      "Epoch 1/100\n",
      "16/16 [==============================] - 2s 7ms/step - loss: 0.6812 - accuracy: 0.5803\n",
      "Epoch 2/100\n",
      "16/16 [==============================] - 0s 4ms/step - loss: 0.6081 - accuracy: 0.7318\n",
      "Epoch 3/100\n",
      "16/16 [==============================] - 0s 2ms/step - loss: 0.5291 - accuracy: 0.8403\n",
      "Epoch 4/100\n",
      "16/16 [==============================] - 0s 2ms/step - loss: 0.4606 - accuracy: 0.8741\n",
      "Epoch 5/100\n",
      "16/16 [==============================] - 0s 2ms/step - loss: 0.3921 - accuracy: 0.8813\n",
      "Epoch 6/100\n",
      "16/16 [==============================] - 0s 1ms/step - loss: 0.3477 - accuracy: 0.8854\n",
      "Epoch 7/100\n",
      "16/16 [==============================] - 0s 2ms/step - loss: 0.3309 - accuracy: 0.8782\n",
      "Epoch 8/100\n",
      "16/16 [==============================] - 0s 2ms/step - loss: 0.3039 - accuracy: 0.8843\n",
      "Epoch 9/100\n",
      "16/16 [==============================] - 0s 2ms/step - loss: 0.2872 - accuracy: 0.8874\n",
      "Epoch 10/100\n",
      "16/16 [==============================] - 0s 2ms/step - loss: 0.2886 - accuracy: 0.8833\n",
      "Epoch 11/100\n",
      "16/16 [==============================] - 0s 1ms/step - loss: 0.2709 - accuracy: 0.8936\n",
      "Epoch 12/100\n",
      "16/16 [==============================] - 0s 2ms/step - loss: 0.2672 - accuracy: 0.8956\n",
      "Epoch 13/100\n",
      "16/16 [==============================] - 0s 2ms/step - loss: 0.2544 - accuracy: 0.8925\n",
      "Epoch 14/100\n",
      "16/16 [==============================] - 0s 2ms/step - loss: 0.2673 - accuracy: 0.8956\n",
      "Epoch 15/100\n",
      "16/16 [==============================] - 0s 2ms/step - loss: 0.2410 - accuracy: 0.9069\n",
      "Epoch 16/100\n",
      "16/16 [==============================] - 0s 1ms/step - loss: 0.2542 - accuracy: 0.8997\n",
      "Epoch 17/100\n",
      "16/16 [==============================] - 0s 1ms/step - loss: 0.2614 - accuracy: 0.9028\n",
      "Epoch 18/100\n",
      "16/16 [==============================] - 0s 2ms/step - loss: 0.2470 - accuracy: 0.9069\n",
      "Epoch 19/100\n",
      "16/16 [==============================] - 0s 2ms/step - loss: 0.2445 - accuracy: 0.9048\n",
      "Epoch 20/100\n",
      "16/16 [==============================] - 0s 1ms/step - loss: 0.2495 - accuracy: 0.9028\n",
      "Epoch 21/100\n",
      "16/16 [==============================] - 0s 2ms/step - loss: 0.2414 - accuracy: 0.9089\n",
      "Epoch 22/100\n",
      "16/16 [==============================] - 0s 2ms/step - loss: 0.2480 - accuracy: 0.9028\n",
      "Epoch 23/100\n",
      "16/16 [==============================] - 0s 2ms/step - loss: 0.2355 - accuracy: 0.9028\n",
      "Epoch 24/100\n",
      "16/16 [==============================] - 0s 2ms/step - loss: 0.2384 - accuracy: 0.9099\n",
      "Epoch 25/100\n",
      "16/16 [==============================] - 0s 2ms/step - loss: 0.2337 - accuracy: 0.9150\n",
      "Epoch 26/100\n",
      "16/16 [==============================] - 0s 2ms/step - loss: 0.2308 - accuracy: 0.9150\n",
      "Epoch 27/100\n",
      "16/16 [==============================] - 0s 2ms/step - loss: 0.2336 - accuracy: 0.9110\n",
      "Epoch 28/100\n",
      "16/16 [==============================] - 0s 1ms/step - loss: 0.2372 - accuracy: 0.9048\n",
      "Epoch 29/100\n",
      "16/16 [==============================] - 0s 2ms/step - loss: 0.2248 - accuracy: 0.9150\n",
      "Epoch 30/100\n",
      "16/16 [==============================] - 0s 2ms/step - loss: 0.2354 - accuracy: 0.9150\n",
      "Epoch 31/100\n",
      "16/16 [==============================] - 0s 2ms/step - loss: 0.2184 - accuracy: 0.9171\n",
      "Epoch 32/100\n",
      "16/16 [==============================] - 0s 2ms/step - loss: 0.2327 - accuracy: 0.9130\n",
      "Epoch 33/100\n",
      "16/16 [==============================] - 0s 1ms/step - loss: 0.2197 - accuracy: 0.9140\n",
      "Epoch 34/100\n",
      "16/16 [==============================] - 0s 2ms/step - loss: 0.2221 - accuracy: 0.9089\n",
      "Epoch 35/100\n",
      "16/16 [==============================] - 0s 2ms/step - loss: 0.2120 - accuracy: 0.9202\n",
      "Epoch 36/100\n",
      "16/16 [==============================] - 0s 2ms/step - loss: 0.2148 - accuracy: 0.9191\n",
      "Epoch 37/100\n",
      "16/16 [==============================] - 0s 1ms/step - loss: 0.2100 - accuracy: 0.9243\n",
      "Epoch 38/100\n",
      "16/16 [==============================] - 0s 2ms/step - loss: 0.2040 - accuracy: 0.9181\n",
      "Epoch 39/100\n",
      "16/16 [==============================] - 0s 2ms/step - loss: 0.2154 - accuracy: 0.9120\n",
      "Epoch 40/100\n",
      "16/16 [==============================] - 0s 1ms/step - loss: 0.2135 - accuracy: 0.9150\n",
      "Epoch 41/100\n",
      "16/16 [==============================] - 0s 2ms/step - loss: 0.2168 - accuracy: 0.9150\n",
      "Epoch 42/100\n",
      "16/16 [==============================] - 0s 2ms/step - loss: 0.2087 - accuracy: 0.9202\n",
      "Epoch 43/100\n",
      "16/16 [==============================] - 0s 1ms/step - loss: 0.2090 - accuracy: 0.9232\n",
      "Epoch 44/100\n",
      "16/16 [==============================] - 0s 2ms/step - loss: 0.2042 - accuracy: 0.9191\n",
      "Epoch 45/100\n",
      "16/16 [==============================] - 0s 2ms/step - loss: 0.2127 - accuracy: 0.9202\n",
      "Epoch 46/100\n",
      "16/16 [==============================] - 0s 2ms/step - loss: 0.2049 - accuracy: 0.9212\n",
      "Epoch 47/100\n",
      "16/16 [==============================] - 0s 1ms/step - loss: 0.2070 - accuracy: 0.9130\n",
      "Epoch 48/100\n",
      "16/16 [==============================] - 0s 2ms/step - loss: 0.2030 - accuracy: 0.9222\n",
      "Epoch 49/100\n",
      "16/16 [==============================] - 0s 2ms/step - loss: 0.2156 - accuracy: 0.9181\n",
      "Epoch 50/100\n",
      "16/16 [==============================] - 0s 2ms/step - loss: 0.2058 - accuracy: 0.9171\n",
      "Epoch 51/100\n",
      "16/16 [==============================] - 0s 1ms/step - loss: 0.1941 - accuracy: 0.9243\n",
      "Epoch 52/100\n",
      "16/16 [==============================] - 0s 2ms/step - loss: 0.2038 - accuracy: 0.9191\n",
      "Epoch 53/100\n",
      "16/16 [==============================] - 0s 1ms/step - loss: 0.1990 - accuracy: 0.9284\n",
      "Epoch 54/100\n",
      "16/16 [==============================] - 0s 2ms/step - loss: 0.2006 - accuracy: 0.9263\n",
      "Epoch 55/100\n",
      "16/16 [==============================] - 0s 1ms/step - loss: 0.2006 - accuracy: 0.9294\n",
      "Epoch 56/100\n",
      "16/16 [==============================] - 0s 2ms/step - loss: 0.1971 - accuracy: 0.9243\n",
      "Epoch 57/100\n",
      "16/16 [==============================] - 0s 2ms/step - loss: 0.1962 - accuracy: 0.9304\n",
      "Epoch 58/100\n",
      "16/16 [==============================] - 0s 2ms/step - loss: 0.1925 - accuracy: 0.9253\n",
      "Epoch 59/100\n",
      "16/16 [==============================] - 0s 1ms/step - loss: 0.1948 - accuracy: 0.9273\n",
      "Epoch 60/100\n",
      "16/16 [==============================] - 0s 2ms/step - loss: 0.1789 - accuracy: 0.9345\n",
      "Epoch 61/100\n",
      "16/16 [==============================] - 0s 2ms/step - loss: 0.1893 - accuracy: 0.9273\n",
      "Epoch 62/100\n",
      "16/16 [==============================] - 0s 2ms/step - loss: 0.1990 - accuracy: 0.9191\n",
      "Epoch 63/100\n",
      "16/16 [==============================] - 0s 2ms/step - loss: 0.1867 - accuracy: 0.9324\n",
      "Epoch 64/100\n",
      "16/16 [==============================] - 0s 1ms/step - loss: 0.1891 - accuracy: 0.9324\n",
      "Epoch 65/100\n",
      "16/16 [==============================] - 0s 1ms/step - loss: 0.1940 - accuracy: 0.9273\n",
      "Epoch 66/100\n",
      "16/16 [==============================] - 0s 1ms/step - loss: 0.1862 - accuracy: 0.9232\n",
      "Epoch 67/100\n",
      "16/16 [==============================] - 0s 2ms/step - loss: 0.1897 - accuracy: 0.9284\n",
      "Epoch 68/100\n",
      "16/16 [==============================] - 0s 2ms/step - loss: 0.1917 - accuracy: 0.9263\n",
      "Epoch 69/100\n",
      "16/16 [==============================] - 0s 1ms/step - loss: 0.1921 - accuracy: 0.9263\n",
      "Epoch 70/100\n",
      "16/16 [==============================] - 0s 2ms/step - loss: 0.1873 - accuracy: 0.9294\n",
      "Epoch 71/100\n",
      "16/16 [==============================] - 0s 2ms/step - loss: 0.1925 - accuracy: 0.9304\n",
      "Epoch 72/100\n",
      "16/16 [==============================] - 0s 2ms/step - loss: 0.1968 - accuracy: 0.9191\n",
      "Epoch 73/100\n",
      "16/16 [==============================] - 0s 2ms/step - loss: 0.1972 - accuracy: 0.9222\n",
      "Epoch 74/100\n",
      "16/16 [==============================] - 0s 2ms/step - loss: 0.1888 - accuracy: 0.9222\n",
      "Epoch 75/100\n",
      "16/16 [==============================] - 0s 2ms/step - loss: 0.1849 - accuracy: 0.9314\n",
      "Epoch 76/100\n",
      "16/16 [==============================] - 0s 2ms/step - loss: 0.1951 - accuracy: 0.9284\n",
      "Epoch 77/100\n",
      "16/16 [==============================] - 0s 2ms/step - loss: 0.1853 - accuracy: 0.9304\n",
      "Epoch 78/100\n",
      "16/16 [==============================] - 0s 2ms/step - loss: 0.1889 - accuracy: 0.9263\n",
      "Epoch 79/100\n",
      "16/16 [==============================] - 0s 1ms/step - loss: 0.1906 - accuracy: 0.9253\n",
      "Epoch 80/100\n",
      "16/16 [==============================] - 0s 1ms/step - loss: 0.1797 - accuracy: 0.9335\n",
      "Epoch 81/100\n",
      "16/16 [==============================] - 0s 1ms/step - loss: 0.1849 - accuracy: 0.9273\n",
      "Epoch 82/100\n",
      "16/16 [==============================] - 0s 2ms/step - loss: 0.1768 - accuracy: 0.9284\n",
      "Epoch 83/100\n"
     ]
    },
    {
     "name": "stdout",
     "output_type": "stream",
     "text": [
      "16/16 [==============================] - 0s 1ms/step - loss: 0.1777 - accuracy: 0.9314\n",
      "Epoch 84/100\n",
      "16/16 [==============================] - 0s 1ms/step - loss: 0.1767 - accuracy: 0.9284\n",
      "Epoch 85/100\n",
      "16/16 [==============================] - 0s 1ms/step - loss: 0.1778 - accuracy: 0.9365\n",
      "Epoch 86/100\n",
      "16/16 [==============================] - 0s 1ms/step - loss: 0.1777 - accuracy: 0.9365\n",
      "Epoch 87/100\n",
      "16/16 [==============================] - 0s 1ms/step - loss: 0.1759 - accuracy: 0.9284\n",
      "Epoch 88/100\n",
      "16/16 [==============================] - 0s 2ms/step - loss: 0.1794 - accuracy: 0.9284\n",
      "Epoch 89/100\n",
      "16/16 [==============================] - 0s 2ms/step - loss: 0.1821 - accuracy: 0.9304\n",
      "Epoch 90/100\n",
      "16/16 [==============================] - 0s 2ms/step - loss: 0.1873 - accuracy: 0.9232\n",
      "Epoch 91/100\n",
      "16/16 [==============================] - 0s 2ms/step - loss: 0.1885 - accuracy: 0.9253\n",
      "Epoch 92/100\n",
      "16/16 [==============================] - 0s 2ms/step - loss: 0.1787 - accuracy: 0.9314\n",
      "Epoch 93/100\n",
      "16/16 [==============================] - 0s 3ms/step - loss: 0.1806 - accuracy: 0.9345\n",
      "Epoch 94/100\n",
      "16/16 [==============================] - 0s 3ms/step - loss: 0.1742 - accuracy: 0.9314\n",
      "Epoch 95/100\n",
      "16/16 [==============================] - 0s 2ms/step - loss: 0.1744 - accuracy: 0.9335\n",
      "Epoch 96/100\n",
      "16/16 [==============================] - 0s 2ms/step - loss: 0.1715 - accuracy: 0.9396\n",
      "Epoch 97/100\n",
      "16/16 [==============================] - 0s 7ms/step - loss: 0.1806 - accuracy: 0.9335\n",
      "Epoch 98/100\n",
      "16/16 [==============================] - 0s 3ms/step - loss: 0.1713 - accuracy: 0.9376\n",
      "Epoch 99/100\n",
      "16/16 [==============================] - 0s 4ms/step - loss: 0.1707 - accuracy: 0.9304\n",
      "Epoch 100/100\n",
      "16/16 [==============================] - 0s 2ms/step - loss: 0.1808 - accuracy: 0.9304\n"
     ]
    },
    {
     "data": {
      "text/plain": [
       "<keras.callbacks.History at 0x7f29e06a2190>"
      ]
     },
     "execution_count": 9,
     "metadata": {},
     "output_type": "execute_result"
    }
   ],
   "source": [
    "model.fit(X_train, y_train, epochs=100, batch_size=64)"
   ]
  },
  {
   "cell_type": "code",
   "execution_count": 10,
   "id": "25121c93",
   "metadata": {},
   "outputs": [
    {
     "name": "stdout",
     "output_type": "stream",
     "text": [
      "14/14 [==============================] - 1s 3ms/step\n"
     ]
    }
   ],
   "source": [
    "y_pred = model.predict(X_test)\n",
    "pred = list()\n",
    "for i in range(len(y_pred)):\n",
    "    pred.append(np.argmax(y_pred[i]))\n",
    "\n",
    "test = list()\n",
    "for i in range(len(y_test)):\n",
    "    test.append(np.argmax(y_test[i]))"
   ]
  },
  {
   "cell_type": "code",
   "execution_count": 11,
   "id": "69c43a16",
   "metadata": {},
   "outputs": [
    {
     "data": {
      "text/plain": [
       "<sklearn.metrics._plot.confusion_matrix.ConfusionMatrixDisplay at 0x7f29d06acbe0>"
      ]
     },
     "execution_count": 11,
     "metadata": {},
     "output_type": "execute_result"
    },
    {
     "data": {
      "image/png": "[encoded data removed]",
      "text/plain": [
       "<Figure size 432x288 with 2 Axes>"
      ]
     },
     "metadata": {
      "needs_background": "light"
     },
     "output_type": "display_data"
    }
   ],
   "source": [
    "cm = confusion_matrix(test, pred)\n",
    "cmd = ConfusionMatrixDisplay(cm, display_labels=['real', 'fake'])\n",
    "cmd.plot()"
   ]
  },
  {
   "cell_type": "code",
   "execution_count": 12,
   "id": "870712f4",
   "metadata": {},
   "outputs": [
    {
     "name": "stdout",
     "output_type": "stream",
     "text": [
      "              precision    recall  f1-score   support\n",
      "\n",
      "           0       0.93      0.92      0.93       213\n",
      "           1       0.92      0.93      0.92       206\n",
      "\n",
      "    accuracy                           0.93       419\n",
      "   macro avg       0.93      0.93      0.93       419\n",
      "weighted avg       0.93      0.93      0.93       419\n",
      "\n"
     ]
    }
   ],
   "source": [
    "print(classification_report(test, pred))"
   ]
  },
  {
   "cell_type": "code",
   "execution_count": null,
   "id": "37ba80e6",
   "metadata": {},
   "outputs": [],
   "source": []
  }
 ],
 "metadata": {
  "kernelspec": {
   "display_name": "Python 3 (ipykernel)",
   "language": "python",
   "name": "python3"
  },
  "language_info": {
   "codemirror_mode": {
    "name": "ipython",
    "version": 3
   },
   "file_extension": ".py",
   "mimetype": "text/x-python",
   "name": "python",
   "nbconvert_exporter": "python",
   "pygments_lexer": "ipython3",
   "version": "3.8.10"
  }
 },
 "nbformat": 4,
 "nbformat_minor": 5
}
